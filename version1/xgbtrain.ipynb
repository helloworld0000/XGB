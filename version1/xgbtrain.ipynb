{
 "cells": [
  {
   "cell_type": "code",
   "execution_count": 1,
   "metadata": {
    "collapsed": false,
    "deletable": true,
    "editable": true
   },
   "outputs": [
    {
     "name": "stderr",
     "output_type": "stream",
     "text": [
      "/usr/local/lib/python2.7/dist-packages/sklearn/cross_validation.py:44: DeprecationWarning: This module was deprecated in version 0.18 in favor of the model_selection module into which all the refactored classes and functions are moved. Also note that the interface of the new CV iterators are different from that of this module. This module will be removed in 0.20.\n",
      "  \"This module will be removed in 0.20.\", DeprecationWarning)\n",
      "/usr/local/lib/python2.7/dist-packages/sklearn/grid_search.py:43: DeprecationWarning: This module was deprecated in version 0.18 in favor of the model_selection module into which all the refactored classes and functions are moved. This module will be removed in 0.20.\n",
      "  DeprecationWarning)\n"
     ]
    }
   ],
   "source": [
    "import pandas as pd\n",
    "import numpy as np\n",
    "import xgboost as xgb\n",
    "from xgboost.sklearn import XGBClassifier\n",
    "from sklearn import cross_validation,metrics\n",
    "from sklearn.grid_search import GridSearchCV\n",
    "import socre\n",
    "import matplotlib.pylab as plt\n",
    "from matplotlib.pylab import rcParams\n",
    "rcParams['figure.figsize'] = 12,4"
   ]
  },
  {
   "cell_type": "code",
   "execution_count": 5,
   "metadata": {
    "collapsed": false
   },
   "outputs": [
    {
     "name": "stdout",
     "output_type": "stream",
     "text": [
      "(2000, 217)\n",
      "(2000, 216)\n"
     ]
    }
   ],
   "source": [
    "train = pd.read_csv('cleandata/train.csv')\n",
    "test = pd.read_csv('cleandata/test.csv')\n",
    "pre = pd.read_csv('cleandata/pre.csv')\n",
    "\n",
    "testmondey = pre.iloc[:,0:2]\n",
    "testmondey.columns = ['shopid','target']\n",
    "# print testmondey\n",
    "train = (pd.merge(train.reset_index(),testmondey,on='shopid')).set_index('shopid')\n",
    "\n",
    "print train.shape\n",
    "print test.shape\n",
    "target = 'target'\n",
    "IDcol = 'shopid'\n",
    "# print type(train[1:1])\n",
    "train[target] = train[target]/3000\n",
    "for i in range(1,8):\n",
    "    train['1-'+str(i)] = train['1-'+str(i)]/3000\n",
    "    test['1-'+str(i)] = test['1-'+str(i)]/3000\n",
    "for i in range(1,8):\n",
    "    train['2-'+str(i)] = train['1-'+str(i)]/3000\n",
    "    test['2-'+str(i)] = test['1-'+str(i)]/3000\n"
   ]
  },
  {
   "cell_type": "code",
   "execution_count": 6,
   "metadata": {
    "collapsed": false
   },
   "outputs": [
    {
     "name": "stdout",
     "output_type": "stream",
     "text": [
      "        index       1-1       1-2       1-3       1-4       1-5       1-6  \\\n",
      "shopid                                                                      \n",
      "1           0  0.084667  0.079667  0.076000  0.081333  0.088000  0.088000   \n",
      "2           1  0.000000  0.000000  0.000000  0.000000  0.000000  0.000000   \n",
      "3           2  0.022667  0.021000  0.018667  0.023667  0.039667  0.032333   \n",
      "4           3  0.028667  0.037667  0.023667  0.040333  0.055000  0.066667   \n",
      "5           4  0.074333  0.072667  0.076667  0.065000  0.061667  0.070333   \n",
      "6           5  0.027667  0.030333  0.030000  0.040333  0.037333  0.045667   \n",
      "7           6  0.045333  0.031000  0.042667  0.046667  0.061000  0.069333   \n",
      "8           7  0.027000  0.021000  0.021667  0.016333  0.034333  0.033667   \n",
      "9           8  0.075000  0.067333  0.064000  0.065667  0.083667  0.094000   \n",
      "10          9  0.036000  0.037000  0.024333  0.029667  0.025333  0.034333   \n",
      "11         10  0.026333  0.028333  0.031667  0.037667  0.024000  0.019333   \n",
      "12         11  0.018333  0.018333  0.017333  0.019667  0.027667  0.021667   \n",
      "13         12  0.078000  0.099000  0.079333  0.083333  0.073667  0.077667   \n",
      "14         13  0.021333  0.018667  0.017000  0.018667  0.026333  0.014667   \n",
      "15         14  0.037000  0.037667  0.042000  0.041333  0.067667  0.058667   \n",
      "16         15  0.013667  0.016333  0.010000  0.023000  0.021000  0.013333   \n",
      "17         16  0.027333  0.023667  0.027333  0.029667  0.041000  0.039667   \n",
      "18         17  0.023333  0.029000  0.024333  0.035667  0.034667  0.037333   \n",
      "19         18  0.051000  0.047000  0.057667  0.050000  0.070000  0.085000   \n",
      "20         19  0.055667  0.055000  0.045667  0.051333  0.049667  0.046667   \n",
      "21         20  0.023333  0.023333  0.019667  0.027333  0.038000  0.037333   \n",
      "22         21  0.032000  0.038667  0.031333  0.042333  0.034000  0.035667   \n",
      "23         22  0.004667  0.003333  0.001000  0.002667  0.003333  0.000333   \n",
      "24         23  0.012333  0.020000  0.023000  0.022667  0.036667  0.041333   \n",
      "25         24  0.035667  0.043333  0.037667  0.039667  0.049000  0.040333   \n",
      "26         25  0.023000  0.026333  0.028333  0.023000  0.049000  0.047333   \n",
      "27         26  0.030667  0.033667  0.028000  0.032667  0.023000  0.024667   \n",
      "28         27  0.021333  0.020667  0.020667  0.026667  0.028000  0.028667   \n",
      "29         28  0.027667  0.028000  0.028333  0.041333  0.062333  0.055333   \n",
      "30         29  0.010333  0.016000  0.012667  0.013667  0.012667  0.019333   \n",
      "...       ...       ...       ...       ...       ...       ...       ...   \n",
      "1971     1970  0.080667  0.076667  0.081333  0.087667  0.069667  0.053333   \n",
      "1972     1971  0.017333  0.030333  0.033667  0.029000  0.042000  0.050333   \n",
      "1973     1972  0.024000  0.025333  0.016333  0.017000  0.013667  0.010000   \n",
      "1974     1973  0.054333  0.054333  0.063333  0.061667  0.042667  0.045667   \n",
      "1975     1974  0.059000  0.060000  0.055667  0.089000  0.088000  0.091333   \n",
      "1976     1975  0.021333  0.035333  0.026000  0.035667  0.032667  0.033667   \n",
      "1977     1976  0.037333  0.044333  0.044000  0.052667  0.045333  0.040667   \n",
      "1978     1977  0.060333  0.067333  0.060667  0.091000  0.082333  0.081333   \n",
      "1979     1978  0.021667  0.024000  0.018667  0.023667  0.024667  0.022000   \n",
      "1980     1979  0.016667  0.014333  0.014333  0.012667  0.022667  0.022333   \n",
      "1981     1980  0.037000  0.030333  0.028333  0.034667  0.025333  0.035333   \n",
      "1982     1981  0.015667  0.016000  0.021333  0.021333  0.021333  0.013000   \n",
      "1983     1982  0.028333  0.036333  0.028000  0.028667  0.029000  0.041000   \n",
      "1984     1983  0.023000  0.020333  0.020667  0.017333  0.018000  0.020333   \n",
      "1985     1984  0.130333  0.138000  0.152333  0.190333  0.162333  0.143333   \n",
      "1986     1985  0.032667  0.028333  0.030333  0.029333  0.034000  0.035000   \n",
      "1987     1986  0.015000  0.016667  0.018000  0.021000  0.048333  0.037333   \n",
      "1988     1987  0.053667  0.056333  0.049000  0.057667  0.089000  0.101667   \n",
      "1989     1988  0.014333  0.020333  0.021000  0.039667  0.036333  0.047667   \n",
      "1990     1989  0.026667  0.026000  0.028667  0.032000  0.039333  0.039667   \n",
      "1991     1990  0.043333  0.050000  0.049333  0.042000  0.042667  0.044000   \n",
      "1992     1991  0.019667  0.025000  0.018667  0.020667  0.040333  0.040000   \n",
      "1993     1992  0.000000  0.000000  0.000000  0.026667  0.024667  0.023667   \n",
      "1994     1993  0.050000  0.046000  0.050667  0.042667  0.044667  0.042667   \n",
      "1995     1994  0.020333  0.023000  0.020000  0.022667  0.018333  0.023667   \n",
      "1996     1995  0.028333  0.027000  0.029667  0.027667  0.025667  0.025000   \n",
      "1997     1996  0.104333  0.095333  0.095000  0.094333  0.032333  0.040333   \n",
      "1998     1997  0.153333  0.153333  0.157000  0.146333  0.078667  0.103000   \n",
      "1999     1998  0.090333  0.103333  0.103333  0.118333  0.166333  0.179333   \n",
      "2000     1999  0.054333  0.053000  0.059000  0.049333  0.026000  0.020000   \n",
      "\n",
      "             1-7       2-1       2-2    ...     city_121  level_0  level_1  \\\n",
      "shopid                                  ...                                  \n",
      "1       0.069000  0.000028  0.000027    ...            0        0        0   \n",
      "2       0.000000  0.000000  0.000000    ...            0        0        1   \n",
      "3       0.025000  0.000008  0.000007    ...            0        1        0   \n",
      "4       0.029667  0.000010  0.000013    ...            0        0        1   \n",
      "5       0.091333  0.000025  0.000024    ...            0        1        0   \n",
      "6       0.027667  0.000009  0.000010    ...            0        1        0   \n",
      "7       0.045000  0.000015  0.000010    ...            0        0        0   \n",
      "8       0.022000  0.000009  0.000007    ...            0        1        0   \n",
      "9       0.084667  0.000025  0.000022    ...            0        0        1   \n",
      "10      0.032000  0.000012  0.000012    ...            0        1        0   \n",
      "11      0.032667  0.000009  0.000009    ...            0        1        0   \n",
      "12      0.023000  0.000006  0.000006    ...            0        1        0   \n",
      "13      0.078333  0.000026  0.000033    ...            0        1        0   \n",
      "14      0.021667  0.000007  0.000006    ...            0        0        0   \n",
      "15      0.045000  0.000012  0.000013    ...            0        1        0   \n",
      "16      0.014000  0.000005  0.000005    ...            0        0        0   \n",
      "17      0.029667  0.000009  0.000008    ...            0        0        0   \n",
      "18      0.023667  0.000008  0.000010    ...            0        1        0   \n",
      "19      0.054333  0.000017  0.000016    ...            0        0        0   \n",
      "20      0.051667  0.000019  0.000018    ...            0        1        0   \n",
      "21      0.023000  0.000008  0.000008    ...            0        1        0   \n",
      "22      0.027000  0.000011  0.000013    ...            0        0        0   \n",
      "23      0.006000  0.000002  0.000001    ...            0        0        1   \n",
      "24      0.010667  0.000004  0.000007    ...            0        0        1   \n",
      "25      0.032667  0.000012  0.000014    ...            0        0        0   \n",
      "26      0.017000  0.000008  0.000009    ...            0        0        1   \n",
      "27      0.026667  0.000010  0.000011    ...            0        0        1   \n",
      "28      0.017667  0.000007  0.000007    ...            0        0        0   \n",
      "29      0.025333  0.000009  0.000009    ...            0        1        0   \n",
      "30      0.012000  0.000003  0.000005    ...            0        0        0   \n",
      "...          ...       ...       ...    ...          ...      ...      ...   \n",
      "1971    0.076000  0.000027  0.000026    ...            0        1        0   \n",
      "1972    0.017333  0.000006  0.000010    ...            0        0        0   \n",
      "1973    0.021000  0.000008  0.000008    ...            0        0        1   \n",
      "1974    0.054000  0.000018  0.000018    ...            0        1        0   \n",
      "1975    0.050333  0.000020  0.000020    ...            0        1        0   \n",
      "1976    0.030333  0.000007  0.000012    ...            0        1        0   \n",
      "1977    0.052000  0.000012  0.000015    ...            0        1        0   \n",
      "1978    0.045667  0.000020  0.000022    ...            0        1        0   \n",
      "1979    0.021333  0.000007  0.000008    ...            0        1        0   \n",
      "1980    0.014000  0.000006  0.000005    ...            0        0        1   \n",
      "1981    0.035667  0.000012  0.000010    ...            0        1        0   \n",
      "1982    0.027000  0.000005  0.000005    ...            0        1        0   \n",
      "1983    0.026000  0.000009  0.000012    ...            0        1        0   \n",
      "1984    0.017667  0.000008  0.000007    ...            0        1        0   \n",
      "1985    0.143667  0.000043  0.000046    ...            0        0        0   \n",
      "1986    0.021000  0.000011  0.000009    ...            0        0        0   \n",
      "1987    0.012333  0.000005  0.000006    ...            0        1        0   \n",
      "1988    0.065000  0.000018  0.000019    ...            0        0        1   \n",
      "1989    0.023000  0.000005  0.000007    ...            0        0        0   \n",
      "1990    0.019000  0.000009  0.000009    ...            0        0        0   \n",
      "1991    0.047667  0.000014  0.000017    ...            0        0        1   \n",
      "1992    0.016333  0.000007  0.000008    ...            1        0        1   \n",
      "1993    0.019333  0.000000  0.000000    ...            0        1        0   \n",
      "1994    0.052667  0.000017  0.000015    ...            0        0        0   \n",
      "1995    0.019333  0.000007  0.000008    ...            0        1        0   \n",
      "1996    0.025333  0.000009  0.000009    ...            0        1        0   \n",
      "1997    0.113667  0.000035  0.000032    ...            0        1        0   \n",
      "1998    0.171000  0.000051  0.000051    ...            0        1        0   \n",
      "1999    0.103000  0.000030  0.000034    ...            0        0        1   \n",
      "2000    0.054333  0.000018  0.000018    ...            0        1        0   \n",
      "\n",
      "        level_2  score_0  score_1  score_2  score_3  score_4    target  \n",
      "shopid                                                                  \n",
      "1             1        0        0        0        0        1  0.085000  \n",
      "2             0        1        0        0        0        0  0.027333  \n",
      "3             0        0        0        0        1        0  0.026667  \n",
      "4             0        1        0        0        0        0  0.030000  \n",
      "5             0        0        0        1        0        0  0.100667  \n",
      "6             0        0        0        0        1        0  0.032333  \n",
      "7             1        0        0        0        1        0  0.042667  \n",
      "8             0        0        0        0        1        0  0.023333  \n",
      "9             0        0        0        0        0        1  0.070000  \n",
      "10            0        1        0        0        0        0  0.025667  \n",
      "11            0        0        0        0        1        0  0.030333  \n",
      "12            0        0        1        0        0        0  0.011667  \n",
      "13            0        1        0        0        0        0  0.096667  \n",
      "14            1        0        1        0        0        0  0.020000  \n",
      "15            0        1        0        0        0        0  0.044667  \n",
      "16            1        0        0        0        1        0  0.012667  \n",
      "17            1        0        0        1        0        0  0.029667  \n",
      "18            0        0        0        0        0        1  0.024667  \n",
      "19            1        0        0        0        1        0  0.049333  \n",
      "20            0        0        0        1        0        0  0.054667  \n",
      "21            0        0        0        0        1        0  0.022333  \n",
      "22            1        0        0        1        0        0  0.036667  \n",
      "23            0        0        0        0        1        0  0.011000  \n",
      "24            0        0        0        1        0        0  0.027667  \n",
      "25            1        0        0        0        1        0  0.039667  \n",
      "26            0        0        1        0        0        0  0.016333  \n",
      "27            0        0        0        0        1        0  0.027667  \n",
      "28            1        0        0        1        0        0  0.021333  \n",
      "29            0        0        1        0        0        0  0.027000  \n",
      "30            1        0        0        1        0        0  0.012000  \n",
      "...         ...      ...      ...      ...      ...      ...       ...  \n",
      "1971          0        0        0        0        0        1  0.078667  \n",
      "1972          1        0        0        1        0        0  0.025000  \n",
      "1973          0        0        0        0        0        1  0.016000  \n",
      "1974          0        0        0        0        0        1  0.060333  \n",
      "1975          0        0        0        0        1        0  0.060000  \n",
      "1976          0        0        0        1        0        0  0.027000  \n",
      "1977          0        0        0        0        1        0  0.045333  \n",
      "1978          0        0        0        0        1        0  0.065333  \n",
      "1979          0        0        0        0        0        1  0.016333  \n",
      "1980          0        0        0        0        0        1  0.017333  \n",
      "1981          0        0        0        1        0        0  0.034667  \n",
      "1982          0        0        0        1        0        0  0.027000  \n",
      "1983          0        0        0        0        0        1  0.039333  \n",
      "1984          0        0        0        1        0        0  0.024000  \n",
      "1985          1        0        0        1        0        0  0.150000  \n",
      "1986          1        0        0        1        0        0  0.030333  \n",
      "1987          0        0        0        0        0        1  0.015667  \n",
      "1988          0        1        0        0        0        0  0.063000  \n",
      "1989          1        0        0        0        1        0  0.021000  \n",
      "1990          1        0        0        0        1        0  0.027000  \n",
      "1991          0        0        0        0        0        1  0.050000  \n",
      "1992          0        1        0        0        0        0  0.022667  \n",
      "1993          0        0        0        0        1        0  0.019000  \n",
      "1994          1        0        0        0        1        0  0.054000  \n",
      "1995          0        1        0        0        0        0  0.017333  \n",
      "1996          0        0        0        0        1        0  0.030333  \n",
      "1997          0        0        1        0        0        0  0.092000  \n",
      "1998          0        0        0        1        0        0  0.191667  \n",
      "1999          0        1        0        0        0        0  0.103000  \n",
      "2000          0        0        0        0        1        0  0.060333  \n",
      "\n",
      "[2000 rows x 217 columns]\n"
     ]
    }
   ],
   "source": [
    "testtarget = pre.iloc[:,[0,8]]\n",
    "testtarget.columns = ['shopid','target']\n",
    "test = (pd.merge(test.reset_index(),testtarget,on='shopid')).set_index('shopid')\n",
    "test[target] = test[target]/3000\n",
    "print test"
   ]
  },
  {
   "cell_type": "code",
   "execution_count": 7,
   "metadata": {
    "collapsed": true
   },
   "outputs": [],
   "source": [
    "def modelfit(alg,dtrain,dtest,predictors,useTrainCV=True,cv_folds=5,early_stopping_rounds=50):\n",
    "\n",
    "    if(useTrainCV):\n",
    "        xgb_param = alg.get_xgb_params()\n",
    "        xgtrain = xgb.DMatrix(dtrain[predictors].values,label= (dtrain[target].values))\n",
    "        cvresult = xgb.cv(xgb_param,xgtrain,num_boost_round=alg.get_params()['n_estimators'],nfold=cv_folds,metrics='auc',early_stopping_rounds=early_stopping_rounds)\n",
    "        print cvresult.shape[0]\n",
    "        alg.set_params(n_estimators = cvresult.shape[0])\n",
    "    #fit on the data\n",
    "    # print dtest[testvalues]\n",
    "    print 'fitting now'\n",
    "    print dtrain[predictors].shape\n",
    "    print dtrain[target].shape\n",
    "    alg.fit(dtrain[predictors],dtrain[target],eval_metric='auc')\n",
    "    print 'fitting ok'\n",
    "    #predict training set:\n",
    "    return alg\n"
   ]
  },
  {
   "cell_type": "code",
   "execution_count": 9,
   "metadata": {
    "collapsed": false
   },
   "outputs": [
    {
     "name": "stdout",
     "output_type": "stream",
     "text": [
      "['target', 'shopid', 'cate3_0', 'cate3_1', 'cate3_2', 'cate3_3', 'cate3_4', 'cate3_5', 'cate3_6', 'cate3_7', 'cate3_8', 'cate3_9', 'cate3_10', 'cate3_11', 'cate3_12', 'cate3_13', 'cate3_14', 'cate3_15', 'cate3_16', 'cate3_17', 'cate3_18', 'cate3_19', 'cate3_20', 'cate3_21', 'cate3_22', 'cate3_23', 'cate3_24', 'cate3_25', 'cate3_26', 'cate3_27', 'cate3_28', 'cate3_29', 'cate3_30', 'cate3_31', 'cate3_32', 'cate3_33', 'cate3_34', 'cate3_35', 'cate3_36', 'cate3_37', 'cate3_38', 'cate3_39', 'cate3_40', 'cate3_41', 'cate3_42', 'cate3_43']\n",
      "172\n"
     ]
    }
   ],
   "source": [
    "list = []\n",
    "list.append(target)\n",
    "list.append(IDcol)\n",
    "# for i in range(0,122):\n",
    "#     list.append('city_'+str(i))\n",
    "for i in range(0,44):\n",
    "    list.append('cate3_'+str(i))\n",
    "# print list\n",
    "# for i in range(1,8):\n",
    "#     list.append('1-'+str(i))\n",
    "# for i in range(1,8):\n",
    "#     list.append('2-'+str(i))\n",
    "print list\n",
    "\n",
    "predictors = [x for x in train.columns if x not in list]\n",
    "print len(predictors)"
   ]
  },
  {
   "cell_type": "code",
   "execution_count": 10,
   "metadata": {
    "collapsed": false
   },
   "outputs": [
    {
     "name": "stdout",
     "output_type": "stream",
     "text": [
      "317\n",
      "fitting now\n",
      "(2000, 172)\n",
      "(2000,)\n",
      "fitting ok\n"
     ]
    }
   ],
   "source": [
    "xgb1 = XGBClassifier(\n",
    "\n",
    "    learning_rate=0.1,\n",
    "    n_estimators=1000,\n",
    "    max_depth=5,\n",
    "    min_child_weight=3,\n",
    "    gamma=0,\n",
    "    subsample=0.8,\n",
    "    colsample_bytree=0.8,\n",
    "    objective='binary:logistic',\n",
    "    scale_pos_weight=1,\n",
    "    seed=27\n",
    ")\n",
    "alg = modelfit(xgb1,train,test,predictors)"
   ]
  },
  {
   "cell_type": "code",
   "execution_count": 11,
   "metadata": {
    "collapsed": false
   },
   "outputs": [
    {
     "name": "stdout",
     "output_type": "stream",
     "text": [
      "[ 209.    0.   59. ...,  226.  282.  157.]\n",
      "[ 244.    0.   59. ...,  518.  285.  157.]\n",
      "\n",
      "train Model Report\n",
      "N: 2000 \tT: 1 \n",
      "\n",
      "0.046306088714\n"
     ]
    }
   ],
   "source": [
    "dtrain_predictions = alg.predict(train[predictors])\n",
    "\n",
    "dtrain_predictions = dtrain_predictions * 3000\n",
    "print dtrain_predictions\n",
    "train[target] = train[target] * 3000\n",
    "print train[target].values\n",
    "\n",
    "# dtrain_predprob = alg.predict_proba(train[predictors])[:, 1]\n",
    "# print the modelreport:\n",
    "\n",
    "print '\\ntrain Model Report'\n",
    "\n",
    "# print \"Accuracy: %.4g\" %metrics.accuracy_score(dtrain[target].values, dtrain_predictions)\n",
    "# print 'AUC SCORE(Train):%f' %metrics.roc_auc_score(dtrain[target].values,dtrain_predprob)\n",
    "\n",
    "thescroe = socre.calculate_score(train[target].values, dtrain_predictions)\n",
    "print thescroe\n"
   ]
  },
  {
   "cell_type": "code",
   "execution_count": 19,
   "metadata": {
    "collapsed": false
   },
   "outputs": [
    {
     "name": "stdout",
     "output_type": "stream",
     "text": [
      "shopid\n",
      "1       255.0\n",
      "2        82.0\n",
      "3        80.0\n",
      "4        90.0\n",
      "5       302.0\n",
      "6        97.0\n",
      "7       128.0\n",
      "8        70.0\n",
      "9       210.0\n",
      "10       77.0\n",
      "11       91.0\n",
      "12       35.0\n",
      "13      290.0\n",
      "14       60.0\n",
      "15      134.0\n",
      "16       38.0\n",
      "17       89.0\n",
      "18       74.0\n",
      "19      148.0\n",
      "20      164.0\n",
      "21       67.0\n",
      "22      110.0\n",
      "23       33.0\n",
      "24       83.0\n",
      "25      119.0\n",
      "26       49.0\n",
      "27       83.0\n",
      "28       64.0\n",
      "29       81.0\n",
      "30       36.0\n",
      "        ...  \n",
      "1971    236.0\n",
      "1972     75.0\n",
      "1973     48.0\n",
      "1974    181.0\n",
      "1975    180.0\n",
      "1976     81.0\n",
      "1977    136.0\n",
      "1978    196.0\n",
      "1979     49.0\n",
      "1980     52.0\n",
      "1981    104.0\n",
      "1982     81.0\n",
      "1983    118.0\n",
      "1984     72.0\n",
      "1985    450.0\n",
      "1986     91.0\n",
      "1987     47.0\n",
      "1988    189.0\n",
      "1989     63.0\n",
      "1990     81.0\n",
      "1991    150.0\n",
      "1992     68.0\n",
      "1993     57.0\n",
      "1994    162.0\n",
      "1995     52.0\n",
      "1996     91.0\n",
      "1997    276.0\n",
      "1998    575.0\n",
      "1999    309.0\n",
      "2000    181.0\n",
      "Name: target, dtype: float64\n"
     ]
    }
   ],
   "source": [
    "test[target] = test[target]/3000\n",
    "print test[target]"
   ]
  },
  {
   "cell_type": "code",
   "execution_count": 20,
   "metadata": {
    "collapsed": false
   },
   "outputs": [
    {
     "name": "stdout",
     "output_type": "stream",
     "text": [
      "\n",
      " test Model Report\n",
      "[ 255.    0.   51. ...,  150.  224.  157.]\n",
      "[ 255.   82.   80. ...,  575.  309.  181.]\n",
      "N: 2000 \tT: 1 \n",
      "\n",
      "0.114416742346\n"
     ]
    }
   ],
   "source": [
    "\n",
    "dtest_predictions = alg.predict(test[predictors])\n",
    "print '\\n test Model Report'\n",
    "dtest_predictions = dtest_predictions * 3000\n",
    "test[target] = test[target] \n",
    "print dtest_predictions\n",
    "print test[target].values\n",
    "thescroe = socre.calculate_score(test[target].values, dtest_predictions)\n",
    "print thescroe"
   ]
  },
  {
   "cell_type": "code",
   "execution_count": 21,
   "metadata": {
    "collapsed": false
   },
   "outputs": [
    {
     "data": {
      "image/png": "[encoded data removed]",
      "text/plain": [
       "<matplotlib.figure.Figure at 0x7f70c849ab50>"
      ]
     },
     "metadata": {},
     "output_type": "display_data"
    }
   ],
   "source": [
    "feat_imp = pd.Series(alg.booster().get_fscore()).sort_values(ascending=False)\n",
    "feat_imp.plot(kind='bar', title='Feature Important')\n",
    "plt.ylabel('Feature Importance Score train')\n",
    "plt.show()\n",
    "\n"
   ]
  },
  {
   "cell_type": "code",
   "execution_count": null,
   "metadata": {
    "collapsed": true
   },
   "outputs": [],
   "source": []
  }
 ],
 "metadata": {
  "kernelspec": {
   "display_name": "Python 2",
   "language": "python",
   "name": "python2"
  },
  "language_info": {
   "codemirror_mode": {
    "name": "ipython",
    "version": 2
   },
   "file_extension": ".py",
   "mimetype": "text/x-python",
   "name": "python",
   "nbconvert_exporter": "python",
   "pygments_lexer": "ipython2",
   "version": "2.7.12"
  }
 },
 "nbformat": 4,
 "nbformat_minor": 0
}
