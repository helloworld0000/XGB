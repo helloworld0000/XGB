{
 "cells": [
  {
   "cell_type": "code",
   "execution_count": null,
   "metadata": {
    "collapsed": true,
    "deletable": true,
    "editable": true
   },
   "outputs": [],
   "source": [
    "import pandas as pd\n",
    "import numpy as np\n",
    "import xgboost as xgb\n",
    "from xgboost.sklearn import XGBClassifier\n",
    "from sklearn import cross_validation,metrics\n",
    "from sklearn.grid_search import GridSearchCV\n",
    "import socre\n",
    "import matplotlib.pylab as plt\n",
    "from matplotlib.pylab import rcParams\n",
    "rcParams['figure.figsize'] = 12,4\n",
    "\n",
    "#load the clean data here\n",
    "\n",
    "train = pd.read_csv('cleandata/train.csv')\n",
    "test = pd.read_csv('cleandata/test.csv')\n",
    "pre = pd.read_csv('cleandata/pre.csv')\n",
    "\n",
    "testmondey = pre.iloc[:,0:2]\n",
    "testmondey.columns = ['shopid','target']\n",
    "# print testmondey\n",
    "train = (pd.merge(train.reset_index(),testmondey,on='shopid')).set_index('shopid')\n",
    "\n",
    "print train.shape\n",
    "print test.shape\n",
    "target = 'target'\n",
    "IDcol = 'shopid'\n",
    "# print type(train[1:1])\n",
    "train[target] = train[target]/3000"
   ]
  },
  {
   "cell_type": "code",
   "execution_count": null,
   "metadata": {
    "collapsed": true
   },
   "outputs": [],
   "source": [
    "testtarget = pre.iloc[:,[0,8]]\n",
    "testtarget.columns = ['shopid','target']\n",
    "test = (pd.merge(test.reset_index(),testtarget,on='shopid')).set_index('shopid')\n",
    "test[target] = test[target]/30"
   ]
  },
  {
   "cell_type": "code",
   "execution_count": null,
   "metadata": {
    "collapsed": true
   },
   "outputs": [],
   "source": [
    "list = []\n",
    "list.append(target)\n",
    "list.append(IDcol)\n",
    "# for i in range(0,122):\n",
    "#     list.append('city_'+str(i))\n",
    "for i in range(0,44):\n",
    "    list.append('cate3_'+str(i))\n",
    "print list\n",
    "for i in range(1,8):\n",
    "    list.append('1-'+str(i))\n",
    "for i in range(1,8):\n",
    "    list.append('2-'+str(i))\n",
    "print list\n",
    "\n",
    "predictors = [x for x in train.columns if x not in list]\n",
    "print len(predictors)"
   ]
  },
  {
   "cell_type": "code",
   "execution_count": null,
   "metadata": {
    "collapsed": true
   },
   "outputs": [],
   "source": [
    "param_test = {\n",
    "    'max_depth':range(3,10,2),\n",
    "    'min_child_weight':range(1,6,2)\n",
    "}\n",
    "gsearch1 = GridSearchCV(estimator= XGBClassifier(learning_rate=0.1,n_estimators=184,max_depth=5,min_child_weight=1,gamma=0,\n",
    "                                                 subsample=0.8,colsample_bytree=0.8,objective='binary:logistic',scale_pos_weight=1,\n",
    "                                                 seed=27),param_grid = param_test,scoring='roc_auc',n_jobs=4,iid=False,cv = 5)\n",
    "alg = gsearch1.fit(train[predictors],train[target])\n",
    "print gsearch1.grid_scores_,gsearch1.best_params_,gsearch1.best_score_"
   ]
  }
 ],
 "metadata": {
  "kernelspec": {
   "display_name": "Python 2",
   "language": "python",
   "name": "python2"
  },
  "language_info": {
   "codemirror_mode": {
    "name": "ipython",
    "version": 2
   },
   "file_extension": ".py",
   "mimetype": "text/x-python",
   "name": "python",
   "nbconvert_exporter": "python",
   "pygments_lexer": "ipython2",
   "version": "2.7.12"
  }
 },
 "nbformat": 4,
 "nbformat_minor": 0
}
